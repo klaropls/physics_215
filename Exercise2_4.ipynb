{
  "nbformat": 4,
  "nbformat_minor": 0,
  "metadata": {
    "colab": {
      "name": "Exercise2_4.ipynb",
      "provenance": [],
      "collapsed_sections": []
    },
    "kernelspec": {
      "name": "python3",
      "display_name": "Python 3"
    }
  },
  "cells": [
    {
      "cell_type": "markdown",
      "metadata": {
        "id": "0sLXxkpr0inc"
      },
      "source": [
        "**Exercise 2.4:** There are actually two kinds of ER graphs. The one we generated in this chapter, $G(n,p)$, is characterized by two parameters, the number of nodes and the probability of an edge between nodes. \n",
        "\n",
        "An alternative definition, denoted $G(n,m)$, is also characterized by two parameters: the number of nodes, $n$, and the number of edges, $m$. Under this definition, the number of edges is fixed, but their location is random.\n",
        "\n",
        "Repeat the experiments we did in this chapter using this alternative definition. Here are a few suggestions for how to proceed:\n",
        "\n",
        "1. Write a function called ```m_pairs``` that takes a list of nodes and the number of edges, $m$, and returns a random selection of $m$ edges. A simple way to do that is to generate a list of all possible edges and use ```random.sample```.\n",
        "\n",
        "2. Write a function called ```make_m_graph``` that takes $n$ and $m$ and returns a random graph with $n$ nodes and $m$ edges.\n",
        "\n",
        "3. Make a version of ```prob_connected``` that uses a ```make_m_graph``` instead of ````make_random_graph```.\n",
        "\n",
        "4. Compute the probability of connectivity for a range of values of $m$.\n",
        "\n",
        "How do the results of this experiment compare to the results using the first type of ER graph?"
      ]
    },
    {
      "cell_type": "code",
      "metadata": {
        "id": "GySLjSMZMygh"
      },
      "source": [
        "import networkx as nx\n",
        "import numpy as np\n",
        "import matplotlib.pyplot as plt\n",
        "import random"
      ],
      "execution_count": 1,
      "outputs": []
    },
    {
      "cell_type": "code",
      "metadata": {
        "id": "WZGJzC2YMzMx"
      },
      "source": [
        "def all_pairs(nodes):\n",
        "  for i, u in enumerate(nodes):\n",
        "    for j, v in enumerate(nodes):\n",
        "      if i < j:\n",
        "        yield u, v"
      ],
      "execution_count": 2,
      "outputs": []
    },
    {
      "cell_type": "code",
      "metadata": {
        "id": "wJi5KlFINc8c"
      },
      "source": [
        "def m_pairs(nodes,m): #as instructed\n",
        "  pairs = list(all_pairs(nodes))\n",
        "  return random.sample(pairs,m)"
      ],
      "execution_count": 3,
      "outputs": []
    },
    {
      "cell_type": "code",
      "metadata": {
        "id": "6bqhpH1oNqf9"
      },
      "source": [
        "def make_m_graph(n,m): #as instructed\n",
        "  G = nx.Graph()\n",
        "  nodes = range(n)\n",
        "  G.add_nodes_from(nodes)\n",
        "  G.add_edges_from(m_pairs(nodes,m))\n",
        "  return G"
      ],
      "execution_count": 4,
      "outputs": []
    },
    {
      "cell_type": "code",
      "metadata": {
        "id": "GtLDv5SqN4M1",
        "colab": {
          "base_uri": "https://localhost:8080/",
          "height": 319
        },
        "outputId": "79c4378b-93d1-4963-93bb-decfb3db488f"
      },
      "source": [
        "nx.draw_circular(make_m_graph(10,10),\n",
        "                 node_color='yellow',\n",
        "                 node_size=1000,\n",
        "                 with_labels=True)"
      ],
      "execution_count": 5,
      "outputs": [
        {
          "output_type": "display_data",
          "data": {
            "image/png": "[encoded data removed]",
            "text/plain": [
              "<Figure size 432x288 with 1 Axes>"
            ]
          },
          "metadata": {
            "tags": []
          }
        }
      ]
    },
    {
      "cell_type": "code",
      "metadata": {
        "id": "ChfNbf-bQFbO"
      },
      "source": [
        "def reachable_nodes(G, start): #from the book\n",
        "    seen = set()\n",
        "    stack = [start]\n",
        "    while stack:\n",
        "        node = stack.pop()\n",
        "        if node not in seen:\n",
        "            seen.add(node)\n",
        "            stack.extend(G.neighbors(node))\n",
        "    return seen"
      ],
      "execution_count": 6,
      "outputs": []
    },
    {
      "cell_type": "code",
      "metadata": {
        "id": "wIwTQk7fPsYx"
      },
      "source": [
        "def is_connected(G): #from the book\n",
        "  start = next(iter(G))\n",
        "  reachable = reachable_nodes(G,start)\n",
        "  return len(reachable) == len(G)"
      ],
      "execution_count": 7,
      "outputs": []
    },
    {
      "cell_type": "code",
      "metadata": {
        "id": "5ufm1GeFOL2F"
      },
      "source": [
        "def prob_connected_m(n, m, iters = 100): #from the book albeit modified as instructed\n",
        "  tf = [is_connected(make_m_graph(n,m))\n",
        "        for i in range(iters)]\n",
        "  return np.mean(tf)"
      ],
      "execution_count": 8,
      "outputs": []
    },
    {
      "cell_type": "code",
      "metadata": {
        "id": "CSkmKmPRP9ZQ",
        "colab": {
          "base_uri": "https://localhost:8080/"
        },
        "outputId": "49607bfb-8c11-4c3a-b2fe-6952567b5c7b"
      },
      "source": [
        "prob_connected_m(100,250, iters = 100)"
      ],
      "execution_count": 9,
      "outputs": [
        {
          "output_type": "execute_result",
          "data": {
            "text/plain": [
              "0.53"
            ]
          },
          "metadata": {
            "tags": []
          },
          "execution_count": 9
        }
      ]
    },
    {
      "cell_type": "code",
      "metadata": {
        "id": "OrdmgjnYor4h"
      },
      "source": [
        "def underride(d, **options):\n",
        "    for key, val in options.items():\n",
        "        d.setdefault(key, val)\n",
        "\n",
        "    return d\n",
        "\n",
        "def legend(**options):\n",
        "    underride(options, loc=\"best\", frameon=False)\n",
        "\n",
        "    ax = plt.gca()\n",
        "    handles, labels = ax.get_legend_handles_labels()\n",
        "    if handles:\n",
        "        ax.legend(handles, labels, **options)\n",
        "\n",
        "def decorate(**options):\n",
        "    loc = options.pop(\"loc\", \"best\")\n",
        "    if options.pop(\"legend\", True):\n",
        "        legend(loc=loc)\n",
        "\n",
        "    plt.gca().set(**options)\n",
        "    plt.tight_layout()\n",
        "\n",
        "options = dict(ls='', marker='.')"
      ],
      "execution_count": 10,
      "outputs": []
    },
    {
      "cell_type": "code",
      "metadata": {
        "id": "JoyfZ0lSQeRR",
        "colab": {
          "base_uri": "https://localhost:8080/",
          "height": 297
        },
        "outputId": "b8e78619-633d-4332-fd55-f5a8b903d96e"
      },
      "source": [
        "n = 100\n",
        "prob_connected_m(n, 250, iters=100)\n",
        "pstar = np.log(n)/n  #I was guided from the repository notebook for chapter 2 from this line onwards.\n",
        "ps = np.logspace(-2,0,11) #The values I chose here are such that I could get a somewhat smooth graph.\n",
        "ms = [int(p*n*(n-1)/2) for p in ps] #Unlike the example from the book, we are interested in m, instead of p so we want to write m = m(p) by simply multiplying m = n*(n-1)/2 to p.\n",
        "ys = [prob_connected_m(n, m, iters=100) for m in ms]\n",
        "\n",
        "plt.axvline(pstar, color='yellow')\n",
        "plt.plot(ps, ys, color = 'blue')\n",
        "decorate(xlabel='Probability of edge (p)', ylabel='Probability connected',\n",
        "         xscale='log')\n"
      ],
      "execution_count": 11,
      "outputs": [
        {
          "output_type": "display_data",
          "data": {
            "image/png": "[encoded data removed]",
            "text/plain": [
              "<Figure size 432x288 with 1 Axes>"
            ]
          },
          "metadata": {
            "tags": [],
            "needs_background": "light"
          }
        }
      ]
    },
    {
      "cell_type": "markdown",
      "metadata": {
        "id": "og6G28_y4B8F"
      },
      "source": [
        "It has the same shape from the previous experiment but the critical value is different."
      ]
    }
  ]
}