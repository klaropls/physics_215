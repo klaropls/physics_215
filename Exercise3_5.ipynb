{
  "nbformat": 4,
  "nbformat_minor": 0,
  "metadata": {
    "colab": {
      "name": "Exercise3_5.ipynb",
      "provenance": [],
      "collapsed_sections": []
    },
    "kernelspec": {
      "name": "python3",
      "display_name": "Python 3"
    }
  },
  "cells": [
    {
      "cell_type": "markdown",
      "metadata": {
        "id": "Fzpe5WBDC2ah"
      },
      "source": [
        "**Exercise 3.5**: A natural question about the Watts and Strorgatz paper is whether the small world phenomenon is specific to their generative model or whether other similar models yield the same qualitative result (high clustering and low path lengths).\r\n",
        "\r\n",
        "To answer this question, choose a variation of the Watts and Strogatz model and repeat the experiment. There are two kinds of variation you might consider:\r\n",
        "\r\n",
        "1) Instead of starting with a regular graph, start with another graph with high clustering. For example, you could put nodes at random locations in a 2-D space and connect each node to its nearest $k$ neighbors.\r\n",
        "\r\n",
        "2) Experiment with different kinds of rewiring.\r\n",
        "\r\n",
        "If a range of similar models yield similar behavior, we say that the results of the paper are robust."
      ]
    },
    {
      "cell_type": "code",
      "metadata": {
        "id": "Xq549q2Y7jmC"
      },
      "source": [
        "import matplotlib.pyplot as plt\n",
        "import networkx as nx\n",
        "import numpy as np"
      ],
      "execution_count": null,
      "outputs": []
    },
    {
      "cell_type": "markdown",
      "metadata": {
        "id": "ClxEz6vHIXDE"
      },
      "source": [
        "I cannot install utils and decorate, but I have found the source code for decorate. It is given below."
      ]
    },
    {
      "cell_type": "code",
      "metadata": {
        "id": "bNRJxqneII-o"
      },
      "source": [
        "def underride(d, **options):\r\n",
        "    for key, val in options.items():\r\n",
        "        d.setdefault(key, val)\r\n",
        "\r\n",
        "    return d\r\n",
        "\r\n",
        "def legend(**options):\r\n",
        "    underride(options, loc=\"best\", frameon=False)\r\n",
        "\r\n",
        "    ax = plt.gca()\r\n",
        "    handles, labels = ax.get_legend_handles_labels()\r\n",
        "    if handles:\r\n",
        "        ax.legend(handles, labels, **options)\r\n",
        "\r\n",
        "def decorate(**options):\r\n",
        "    loc = options.pop(\"loc\", \"best\")\r\n",
        "    if options.pop(\"legend\", True):\r\n",
        "        legend(loc=loc)\r\n",
        "\r\n",
        "    plt.gca().set(**options)\r\n",
        "    plt.tight_layout()"
      ],
      "execution_count": null,
      "outputs": []
    },
    {
      "cell_type": "markdown",
      "metadata": {
        "id": "t_FopwISIZ-w"
      },
      "source": [
        "Provided below is the original experiment from the book. The code was already explained from the repository notebook of chapter 3 and the book, too. Hence I wont be providing any detailed comments.\r\n",
        "\r\n",
        "**Original Experiment:**"
      ]
    },
    {
      "cell_type": "code",
      "metadata": {
        "id": "_XA9eEQGg3EC"
      },
      "source": [
        "ps = np.logspace(-4, 0, 9)"
      ],
      "execution_count": null,
      "outputs": []
    },
    {
      "cell_type": "code",
      "metadata": {
        "id": "KK_jwI1C7kHe"
      },
      "source": [
        "def flip(p):\n",
        "  return np.random.random() < p"
      ],
      "execution_count": null,
      "outputs": []
    },
    {
      "cell_type": "code",
      "metadata": {
        "id": "Q6UGMHZu7mew"
      },
      "source": [
        "def all_pairs(nodes):\n",
        "  for i, u in enumerate(nodes):\n",
        "    for j, v in enumerate(nodes):\n",
        "      if i > j:\n",
        "        yield u, v"
      ],
      "execution_count": null,
      "outputs": []
    },
    {
      "cell_type": "code",
      "metadata": {
        "id": "VjC9pAR-7n6x"
      },
      "source": [
        "def adjacent_edges(nodes, halfk):\n",
        "    n = len(nodes)\n",
        "    for i, u in enumerate(nodes):\n",
        "        for j in range(i+1, i+halfk+1):\n",
        "            v = nodes[j % n]\n",
        "            yield u, v"
      ],
      "execution_count": null,
      "outputs": []
    },
    {
      "cell_type": "code",
      "metadata": {
        "id": "WYgINMkG7rg3"
      },
      "source": [
        "def make_ring_lattice(n, k):\n",
        "    G = nx.Graph()\n",
        "    nodes = range(n)\n",
        "    G.add_nodes_from(nodes)\n",
        "    G.add_edges_from(adjacent_edges(nodes, k//2))\n",
        "    return G"
      ],
      "execution_count": null,
      "outputs": []
    },
    {
      "cell_type": "code",
      "metadata": {
        "id": "FhdKGpg07t3q"
      },
      "source": [
        "def rewire(G, p):\n",
        "  nodes = set(G)\n",
        "  for u, v in G.edges():\n",
        "    if flip(p):\n",
        "      choices = nodes - {u} - set(G[u])\n",
        "      new_v = np.random.choice(list(choices))\n",
        "      G.remove_edge(u, v)\n",
        "      G.add_edge(u, new_v)"
      ],
      "execution_count": null,
      "outputs": []
    },
    {
      "cell_type": "code",
      "metadata": {
        "id": "l6h9jIIo7xH2"
      },
      "source": [
        "def make_ws_graph(n, k, p):\n",
        "    ws = make_ring_lattice(n, k)\n",
        "    rewire(ws, p)\n",
        "    return ws"
      ],
      "execution_count": null,
      "outputs": []
    },
    {
      "cell_type": "code",
      "metadata": {
        "id": "dEJP5jlP70-Z"
      },
      "source": [
        "def node_clustering(G, u):\n",
        "  neighbors = G[u]\n",
        "  k = len(neighbors)\n",
        "  if k < 2:\n",
        "    return np.nan\n",
        "\n",
        "  possible = k*(k-1)/2\n",
        "  exist = 0\n",
        "  for v, w in all_pairs(neighbors):\n",
        "    if G.has_edge(v, w):\n",
        "      exist += 1\n",
        "  return exist / possible\n",
        "\n",
        "def clustering_coefficient(G):\n",
        "  cu = [node_clustering(G, node) for node in G]\n",
        "  return np.nanmean(cu)"
      ],
      "execution_count": null,
      "outputs": []
    },
    {
      "cell_type": "code",
      "metadata": {
        "id": "PFLflbPLjCT7"
      },
      "source": [
        "def path_lengths(G):\n",
        "    length_iter = nx.shortest_path_length(G)\n",
        "    for source, dist_map in length_iter:\n",
        "        for dest, dist in dist_map.items():\n",
        "            yield dist\n",
        "\n",
        "def characteristic_path_length(G):\n",
        "    return np.mean(list(path_lengths(G)))"
      ],
      "execution_count": null,
      "outputs": []
    },
    {
      "cell_type": "code",
      "metadata": {
        "id": "5a2_hxUc74pP"
      },
      "source": [
        "def run_one_graph(n, k, p):\n",
        "  ws = make_ws_graph(n, k, p)\n",
        "  mpl = characteristic_path_length(ws)\n",
        "  cc = clustering_coefficient(ws)\n",
        "  return mpl, cc"
      ],
      "execution_count": null,
      "outputs": []
    },
    {
      "cell_type": "code",
      "metadata": {
        "id": "SoD8k1qr77dD"
      },
      "source": [
        "def run_experiment(ps, n=1000, k=10, iters=20):\n",
        "  res = []\n",
        "  for p in ps:\n",
        "    t = [run_one_graph(n, k, p) for _ in range(iters)]\n",
        "    means = np.array(t).mean(axis=0)\n",
        "    res.append(means)\n",
        "  return np.array(res)"
      ],
      "execution_count": null,
      "outputs": []
    },
    {
      "cell_type": "code",
      "metadata": {
        "id": "xKiajKw9i1pU"
      },
      "source": [
        "res = run_experiment(ps)"
      ],
      "execution_count": null,
      "outputs": []
    },
    {
      "cell_type": "code",
      "metadata": {
        "id": "fnMrkmRlih9A"
      },
      "source": [
        "L, C = np.transpose(res)"
      ],
      "execution_count": null,
      "outputs": []
    },
    {
      "cell_type": "code",
      "metadata": {
        "id": "6Kby5l63tQSH"
      },
      "source": [
        "L /= L[0]\n",
        "C /= C[0]"
      ],
      "execution_count": null,
      "outputs": []
    },
    {
      "cell_type": "code",
      "metadata": {
        "id": "37MTlGigtZZ1",
        "colab": {
          "base_uri": "https://localhost:8080/",
          "height": 297
        },
        "outputId": "1ef4505e-6058-4865-8e2e-c892de7b4621"
      },
      "source": [
        "plt.plot(ps, C, 's-', linewidth=1, label='C(p) / C(0)')\n",
        "plt.plot(ps, L, 'o-', linewidth=1, label='L(p) / L(0)')\n",
        "decorate(xlabel='Rewiring probability (p)', xscale='log',\n",
        "         title='Normalized clustering coefficient and path length',\n",
        "         xlim=[0.00009, 1.1], ylim=[-0.01, 1.01])\n"
      ],
      "execution_count": null,
      "outputs": [
        {
          "output_type": "display_data",
          "data": {
            "image/png": "[encoded data removed]",
            "text/plain": [
              "<Figure size 432x288 with 1 Axes>"
            ]
          },
          "metadata": {
            "tags": [],
            "needs_background": "light"
          }
        }
      ]
    },
    {
      "cell_type": "markdown",
      "metadata": {
        "id": "0UFSGvxuUQbf"
      },
      "source": [
        "I would like to do different rewiring for this exercise. The simplest way to do this is by modifying ```flip(p)``` and using a different distributions instead. I will do it for an exponential, geometric, standard cauchy, and poisson distributions. The reason being is that these are the most common distributions used and often the introductory distributions being taught in classes."
      ]
    },
    {
      "cell_type": "markdown",
      "metadata": {
        "id": "izFRhpXr6d_l"
      },
      "source": [
        "**Exponential rewiring**"
      ]
    },
    {
      "cell_type": "code",
      "metadata": {
        "id": "4MVadXC6X9Eg"
      },
      "source": [
        "def flip2(p):\n",
        "  return np.random.exponential() < p"
      ],
      "execution_count": null,
      "outputs": []
    },
    {
      "cell_type": "code",
      "metadata": {
        "id": "nJhBvE9L78K5"
      },
      "source": [
        "def rewire2(G, p):\n",
        "  nodes = set(G)\n",
        "  for u, v in G.edges():\n",
        "    if flip2(p):\n",
        "      choices = nodes - {u} - set(G[u])\n",
        "      new_v = np.random.choice(list(choices))\n",
        "      G.remove_edge(u, v)\n",
        "      G.add_edge(u, new_v)"
      ],
      "execution_count": null,
      "outputs": []
    },
    {
      "cell_type": "code",
      "metadata": {
        "id": "IUhlcMgWXUEF"
      },
      "source": [
        "def make_ws_graph2(n, k, p):\n",
        "    ws = make_ring_lattice(n, k)\n",
        "    rewire2(ws, p)\n",
        "    return ws"
      ],
      "execution_count": null,
      "outputs": []
    },
    {
      "cell_type": "code",
      "metadata": {
        "id": "jB6bup_DXWfz"
      },
      "source": [
        "def run_one_graph2(n, k, p):\n",
        "  ws = make_ws_graph2(n, k, p)\n",
        "  mpl = characteristic_path_length(ws)\n",
        "  cc = clustering_coefficient(ws)\n",
        "  return mpl, cc"
      ],
      "execution_count": null,
      "outputs": []
    },
    {
      "cell_type": "code",
      "metadata": {
        "id": "Lk5ulvWhXc2t"
      },
      "source": [
        "def run_experiment2(ps, n=1000, k=10, iters=20):\n",
        "  res = []\n",
        "  for p in ps:\n",
        "    t = [run_one_graph2(n, k, p) for _ in range(iters)]\n",
        "    means = np.array(t).mean(axis=0)\n",
        "    res.append(means)\n",
        "  return np.array(res)"
      ],
      "execution_count": null,
      "outputs": []
    },
    {
      "cell_type": "code",
      "metadata": {
        "id": "M3LbqjwjujJS"
      },
      "source": [
        "res2 = run_experiment2(ps)"
      ],
      "execution_count": null,
      "outputs": []
    },
    {
      "cell_type": "code",
      "metadata": {
        "id": "1DZF69dYuleS"
      },
      "source": [
        "L2, C2 = np.transpose(res2)"
      ],
      "execution_count": null,
      "outputs": []
    },
    {
      "cell_type": "code",
      "metadata": {
        "id": "k6zd9-Ttum_Z"
      },
      "source": [
        "L2 /= L2[0]\n",
        "C2 /= C2[0]"
      ],
      "execution_count": null,
      "outputs": []
    },
    {
      "cell_type": "code",
      "metadata": {
        "id": "hYW01Qvsuo_6",
        "colab": {
          "base_uri": "https://localhost:8080/",
          "height": 297
        },
        "outputId": "9401b56e-07d5-48d0-cfde-d9842706eeef"
      },
      "source": [
        "plt.plot(ps, C2, 's-', linewidth=1, label='C2(p) / C2(0)')\n",
        "plt.plot(ps, L2, 'o-', linewidth=1, label='L2(p) / L2(0)')\n",
        "decorate(xlabel='Rewiring probability (p)', xscale='log',\n",
        "         title='Normalized clustering coefficient and path length',\n",
        "         xlim=[0.00009, 1.1], ylim=[-0.01, 1.01])\n"
      ],
      "execution_count": null,
      "outputs": [
        {
          "output_type": "display_data",
          "data": {
            "image/png": "[encoded data removed]",
            "text/plain": [
              "<Figure size 432x288 with 1 Axes>"
            ]
          },
          "metadata": {
            "tags": [],
            "needs_background": "light"
          }
        }
      ]
    },
    {
      "cell_type": "markdown",
      "metadata": {
        "id": "iEJc3bCvY275"
      },
      "source": [
        "Geometric rewiring"
      ]
    },
    {
      "cell_type": "code",
      "metadata": {
        "id": "4HirO31UYFU3"
      },
      "source": [
        "def flip3(p):\n",
        "  return np.random.laplace() < p"
      ],
      "execution_count": null,
      "outputs": []
    },
    {
      "cell_type": "code",
      "metadata": {
        "id": "eomOQ661W_mY"
      },
      "source": [
        "def rewire3(G, p):\n",
        "  nodes = set(G)\n",
        "  for u, v in G.edges():\n",
        "    if flip3(p):\n",
        "      choices = nodes - {u} - set(G[u])\n",
        "      new_v = np.random.choice(list(choices))\n",
        "      G.remove_edge(u, v)\n",
        "      G.add_edge(u, new_v)"
      ],
      "execution_count": null,
      "outputs": []
    },
    {
      "cell_type": "code",
      "metadata": {
        "id": "lVKcDTxN56Bd"
      },
      "source": [
        "def make_ws_graph3(n, k, p):\n",
        "    ws = make_ring_lattice(n, k)\n",
        "    rewire3(ws, p)\n",
        "    return ws"
      ],
      "execution_count": null,
      "outputs": []
    },
    {
      "cell_type": "code",
      "metadata": {
        "id": "cG6aLqmRwyzA"
      },
      "source": [
        "def run_one_graph3(n, k, p):\n",
        "  ws = make_ws_graph3(n, k, p)\n",
        "  mpl = characteristic_path_length(ws)\n",
        "  cc = clustering_coefficient(ws)\n",
        "  return mpl, cc"
      ],
      "execution_count": null,
      "outputs": []
    },
    {
      "cell_type": "code",
      "metadata": {
        "id": "ferVqInGw33_"
      },
      "source": [
        "def run_experiment3(ps, n=1000, k=10, iters=20):\n",
        "  res = []\n",
        "  for p in ps:\n",
        "    t = [run_one_graph3(n, k, p) for _ in range(iters)]\n",
        "    means = np.array(t).mean(axis=0)\n",
        "    res.append(means)\n",
        "  return np.array(res)"
      ],
      "execution_count": null,
      "outputs": []
    },
    {
      "cell_type": "code",
      "metadata": {
        "id": "xELjn4DnxA5-"
      },
      "source": [
        "res3 = run_experiment3(ps)"
      ],
      "execution_count": null,
      "outputs": []
    },
    {
      "cell_type": "code",
      "metadata": {
        "id": "cVZV0Muqz2Ea"
      },
      "source": [
        "L3, C3 = np.transpose(res3)"
      ],
      "execution_count": null,
      "outputs": []
    },
    {
      "cell_type": "code",
      "metadata": {
        "id": "iuYwwn_oz5oe"
      },
      "source": [
        "L3 /= L3[0]\n",
        "C3 /= C3[0]"
      ],
      "execution_count": null,
      "outputs": []
    },
    {
      "cell_type": "code",
      "metadata": {
        "id": "kJyq2bZ3z-KH",
        "colab": {
          "base_uri": "https://localhost:8080/",
          "height": 297
        },
        "outputId": "911ccf1c-db7e-4cd3-940d-a1e457233ffc"
      },
      "source": [
        "plt.plot(ps, C3, 's-', linewidth=1, label='C3(p) / C3(0)')\n",
        "plt.plot(ps, L3, 'o-', linewidth=1, label='L3(p) / L3(0)')\n",
        "decorate(xlabel='Rewiring probability (p)', xscale='log',\n",
        "         title='Normalized clustering coefficient and path length',\n",
        "         xlim=[0.00009, 1.1], ylim=[-0.01, 1.01])"
      ],
      "execution_count": null,
      "outputs": [
        {
          "output_type": "display_data",
          "data": {
            "image/png": "[encoded data removed]",
            "text/plain": [
              "<Figure size 432x288 with 1 Axes>"
            ]
          },
          "metadata": {
            "tags": [],
            "needs_background": "light"
          }
        }
      ]
    },
    {
      "cell_type": "markdown",
      "metadata": {
        "id": "qHXCCxnzWMvF"
      },
      "source": [
        "**Standard Cauchy rewiring**"
      ]
    },
    {
      "cell_type": "code",
      "metadata": {
        "id": "VXRnncRuPGH0"
      },
      "source": [
        "def flip4(p):\n",
        "  return np.random.standard_cauchy() < p"
      ],
      "execution_count": null,
      "outputs": []
    },
    {
      "cell_type": "code",
      "metadata": {
        "id": "yimc3vlzPIrZ"
      },
      "source": [
        "def rewire4(G, p):\n",
        "  nodes = set(G)\n",
        "  for u, v in G.edges():\n",
        "    if flip4(p):\n",
        "      choices = nodes - {u} - set(G[u])\n",
        "      new_v = np.random.choice(list(choices))\n",
        "      G.remove_edge(u, v)\n",
        "      G.add_edge(u, new_v)"
      ],
      "execution_count": null,
      "outputs": []
    },
    {
      "cell_type": "code",
      "metadata": {
        "id": "s6bNjIDdPR2d"
      },
      "source": [
        "def make_ws_graph4(n, k, p):\n",
        "    ws = make_ring_lattice(n, k)\n",
        "    rewire4(ws, p)\n",
        "    return ws"
      ],
      "execution_count": null,
      "outputs": []
    },
    {
      "cell_type": "code",
      "metadata": {
        "id": "SeOAlhw5PVLs"
      },
      "source": [
        "def run_one_graph4(n, k, p):\n",
        "  ws = make_ws_graph4(n, k, p)\n",
        "  mpl = characteristic_path_length(ws)\n",
        "  cc = clustering_coefficient(ws)\n",
        "  return mpl, cc"
      ],
      "execution_count": null,
      "outputs": []
    },
    {
      "cell_type": "code",
      "metadata": {
        "id": "pnag1qxfPbwt"
      },
      "source": [
        "def run_experiment4(ps, n=1000, k=10, iters=20):\n",
        "  res = []\n",
        "  for p in ps:\n",
        "    t = [run_one_graph4(n, k, p) for _ in range(iters)]\n",
        "    means = np.array(t).mean(axis=0)\n",
        "    res.append(means)\n",
        "  return np.array(res)"
      ],
      "execution_count": null,
      "outputs": []
    },
    {
      "cell_type": "code",
      "metadata": {
        "id": "B7CVxdn1Pfyx"
      },
      "source": [
        "res4 = run_experiment4(ps)"
      ],
      "execution_count": null,
      "outputs": []
    },
    {
      "cell_type": "code",
      "metadata": {
        "id": "fUgLJphiPjZv"
      },
      "source": [
        "L4, C4 = np.transpose(res4)"
      ],
      "execution_count": null,
      "outputs": []
    },
    {
      "cell_type": "code",
      "metadata": {
        "id": "wozU9xJTS4sL"
      },
      "source": [
        "L4 /= L4[0]\n",
        "C4 /= C4[0]"
      ],
      "execution_count": null,
      "outputs": []
    },
    {
      "cell_type": "code",
      "metadata": {
        "id": "cumRjnPSS6qo",
        "colab": {
          "base_uri": "https://localhost:8080/",
          "height": 297
        },
        "outputId": "41e81a11-e176-4af8-c5a3-fe449f70a9e4"
      },
      "source": [
        "plt.plot(ps, C4, 's-', linewidth=1, label='C4(p) / C4(0)')\n",
        "plt.plot(ps, L4, 'o-', linewidth=1, label='L4(p) / L4(0)')\n",
        "decorate(xlabel='Rewiring probability (p)', xscale='log',\n",
        "         title='Normalized clustering coefficient and path length',\n",
        "         xlim=[0.00009, 1.1], ylim=[-0.01, 1.01])"
      ],
      "execution_count": null,
      "outputs": [
        {
          "output_type": "display_data",
          "data": {
            "image/png": "[encoded data removed]",
            "text/plain": [
              "<Figure size 432x288 with 1 Axes>"
            ]
          },
          "metadata": {
            "tags": [],
            "needs_background": "light"
          }
        }
      ]
    },
    {
      "cell_type": "markdown",
      "metadata": {
        "id": "S6nwEATyWZlm"
      },
      "source": [
        "**Poisson rewiring**"
      ]
    },
    {
      "cell_type": "code",
      "metadata": {
        "id": "CPVy5ILoS_gE"
      },
      "source": [
        "def flip5(p):\n",
        "  return np.random.poisson() < p"
      ],
      "execution_count": null,
      "outputs": []
    },
    {
      "cell_type": "code",
      "metadata": {
        "id": "-fQ4UDbuThB2"
      },
      "source": [
        "def rewire5(G, p):\n",
        "  nodes = set(G)\n",
        "  for u, v in G.edges():\n",
        "    if flip5(p):\n",
        "      choices = nodes - {u} - set(G[u])\n",
        "      new_v = np.random.choice(list(choices))\n",
        "      G.remove_edge(u, v)\n",
        "      G.add_edge(u, new_v)"
      ],
      "execution_count": null,
      "outputs": []
    },
    {
      "cell_type": "code",
      "metadata": {
        "id": "Q-nOQXPWTm81"
      },
      "source": [
        "def make_ws_graph5(n, k, p):\n",
        "    ws = make_ring_lattice(n, k)\n",
        "    rewire5(ws, p)\n",
        "    return ws"
      ],
      "execution_count": null,
      "outputs": []
    },
    {
      "cell_type": "code",
      "metadata": {
        "id": "Y3CIn3eZTq2A"
      },
      "source": [
        "def run_one_graph5(n, k, p):\n",
        "  ws = make_ws_graph5(n, k, p)\n",
        "  mpl = characteristic_path_length(ws)\n",
        "  cc = clustering_coefficient(ws)\n",
        "  return mpl, cc"
      ],
      "execution_count": null,
      "outputs": []
    },
    {
      "cell_type": "code",
      "metadata": {
        "id": "01sOagRJTuZI"
      },
      "source": [
        "def run_experiment5(ps, n=1000, k=10, iters=20):\n",
        "  res = []\n",
        "  for p in ps:\n",
        "    t = [run_one_graph5(n, k, p) for _ in range(iters)]\n",
        "    means = np.array(t).mean(axis=0)\n",
        "    res.append(means)\n",
        "  return np.array(res)"
      ],
      "execution_count": null,
      "outputs": []
    },
    {
      "cell_type": "code",
      "metadata": {
        "id": "kGmXdbkAT1zt"
      },
      "source": [
        "res5 = run_experiment5(ps)"
      ],
      "execution_count": null,
      "outputs": []
    },
    {
      "cell_type": "code",
      "metadata": {
        "id": "hZZ9o_jZT4ST"
      },
      "source": [
        "L5, C5 = np.transpose(res5)"
      ],
      "execution_count": null,
      "outputs": []
    },
    {
      "cell_type": "code",
      "metadata": {
        "id": "z9zW5sxeWeBu"
      },
      "source": [
        "L5 /= L5[0]\n",
        "C5 /= C5[0]"
      ],
      "execution_count": null,
      "outputs": []
    },
    {
      "cell_type": "code",
      "metadata": {
        "id": "LvbA8O8gWfxz",
        "colab": {
          "base_uri": "https://localhost:8080/",
          "height": 297
        },
        "outputId": "5406b8be-0856-4fc9-b124-29ac4915e67e"
      },
      "source": [
        "plt.plot(ps, C5, 's-', linewidth=1, label='C5(p) / C5(0)')\n",
        "plt.plot(ps, L5, 'o-', linewidth=1, label='L5(p) / L5(0)')\n",
        "decorate(xlabel='Rewiring probability (p)', xscale='log',\n",
        "         title='Normalized clustering coefficient and path length',\n",
        "         xlim=[0.00009, 1.1], ylim=[-0.01, 1.01])"
      ],
      "execution_count": null,
      "outputs": [
        {
          "output_type": "display_data",
          "data": {
            "image/png": "[encoded data removed]",
            "text/plain": [
              "<Figure size 432x288 with 1 Axes>"
            ]
          },
          "metadata": {
            "tags": [],
            "needs_background": "light"
          }
        }
      ]
    },
    {
      "cell_type": "markdown",
      "metadata": {
        "id": "Wbq4zLYSWfbT"
      },
      "source": [
        "So far, from the elementary distributions we had used, only the exponential distribution produced a similar result with the original experiment. Based from the result of my work, I am inclined to say that the result of the paper is not robust. Moreover, I am curious as how large should the range of similar behavior/results be to consider the result robust."
      ]
    }
  ]
}