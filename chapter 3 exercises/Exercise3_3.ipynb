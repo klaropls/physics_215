{
  "nbformat": 4,
  "nbformat_minor": 0,
  "metadata": {
    "colab": {
      "name": "Exercise3_3.ipynb",
      "provenance": [],
      "collapsed_sections": []
    },
    "kernelspec": {
      "name": "python3",
      "display_name": "Python 3"
    }
  },
  "cells": [
    {
      "cell_type": "markdown",
      "metadata": {
        "id": "91WsglW9X82g"
      },
      "source": [
        "**Exercise 3.3:** The following implementation of BFS contains two performance errors. What are they? What is the actual growth for this algorithm?"
      ]
    },
    {
      "cell_type": "code",
      "metadata": {
        "id": "8eTyS6ekYHb7"
      },
      "source": [
        "def bfs(G, start):\n",
        "  visited = set()\n",
        "  queue = [start]\n",
        "  while len(queue):\n",
        "    curr_node = queue.pop(0)\n",
        "    visited.add(curr_node)\n",
        "\n",
        "    queue.extend(c for c in G[curr_node]\n",
        "                 if c not in visited and c not in queue)\n",
        "    return visited"
      ],
      "execution_count": null,
      "outputs": []
    },
    {
      "cell_type": "markdown",
      "metadata": {
        "id": "aslJGht1xxI_"
      },
      "source": [
        "We consult https://wiki.python.org/moin/TimeComplexity to check for the time complexity of this implementation.\n",
        "\n",
        "The ```.pop(0)``` command is $\\mathcal{O}(n)$, as remarked from the book and the link above. We could instead modify the code by utilizing deque ```.popleft()``` which is constant in time.\n",
        "\n",
        "Another easy to spot difference of this implementation from the examples of the book is that this implementation also checks ```c``` if it is in ```queue```. From the link provided, this checking is $\\mathcal{O}(n)$.\n",
        "\n",
        "The worst possible runtime for this implementation will be $\\mathcal{O}(n^3)$. A completely connected graph with $n$ nodes will run $n$ times, and these $n$ nodes will be check if its in a list with $n$ elements."
      ]
    }
  ]
}