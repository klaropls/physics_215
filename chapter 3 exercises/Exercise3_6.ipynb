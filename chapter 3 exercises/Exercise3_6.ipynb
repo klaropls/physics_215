{
  "nbformat": 4,
  "nbformat_minor": 0,
  "metadata": {
    "colab": {
      "name": "Exercise3_6.ipynb",
      "provenance": [],
      "collapsed_sections": []
    },
    "kernelspec": {
      "name": "python3",
      "display_name": "Python 3"
    }
  },
  "cells": [
    {
      "cell_type": "markdown",
      "metadata": {
        "id": "C2yupMjwfH8C"
      },
      "source": [
        "**Exercise 3.6:** Dijkstra's algorithm solves the \"single source shortest path\" problem, but to compute the characteristic path length of a graph, we actually want to solve the \"all pairs shortest path\" problem.\r\n",
        "\r\n",
        "Of course, one option is to run Dijkstra's algorithm $n$ times, once for each starting node. And for some applications, that's probably good enough. But there are more efficient alternatives.\r\n",
        "\r\n",
        "Find an algorithm for the all-pairs shortest path problem and implement it. See https://en.wikipedia.org/wiki/Shortest_path_problem#All-pairs_shortest_paths.\r\n",
        "\r\n",
        "Compare the run time of your implementation with running Dijkstra's algorithm $n$ times. Which algorithm is better in theory? Which is better in practice? Which one does NetworkX use?"
      ]
    },
    {
      "cell_type": "markdown",
      "metadata": {
        "id": "kwhBQkC4imdl"
      },
      "source": [
        "With the link provided, we see that the time complexity of Dijkstra's algorithm for the single-source shortest paths is $\\mathcal{O}(n^2)$, with the weight $\\mathbb{R}_+$. Running this $n$ times would make it $\\mathcal{O}(n^3)$.\r\n",
        "\r\n",
        "Looking at the other algorithms for undirected graphs, I have listed all except one:\r\n",
        "\r\n",
        "1) Floyd-Warshall algorithm, which has a time complexity $\\mathcal{O}(n^3)$ and a weight of $\\mathbb{R}_+$\r\n",
        "\r\n",
        "2) Seidel's algorithm, which has a time complexity $\\mathcal{O}(n^\\omega \\log n)$ and a weight $\\{1,\\infty\\}$ and where $\\omega < 2.373$.\r\n",
        "\r\n",
        "3) Pettie & Ramachandran's, which has a time complexity $\\mathcal{O}(nm\\log \\alpha(n,m))$ and has a weight of $\\mathbb{R}_+$.\r\n",
        "\r\n",
        "4) Thorup's, which has a time complexity $\\mathcal{O}(nm)$ and a weight of $\\mathbb{N}$.\r\n",
        "\r\n",
        "I could not answer which one is the best in theory, for they each all have their strengths and weaknesses. The best theory will depend on your demands, which brings us to the second question.\r\n",
        "\r\n",
        "The most practical theory depend on the demands as well. Talking about extrema will help us in answering this. Say, for very large n; $n \\to \\infty$, then the most practical program to use will either be Seidel's or Pettie & Ramachandran's since the other algorithm, Dijkstra's included approaches $\\mathcal{O}(\\infty)$ faster than the previous two. The final answer, if it's Seidel's or P&R's, will then depend on the number of edges $m$ and the factor $\\alpha(n,m)$. As for small $n$, then the most practical algorithm to use is Thorup's.\r\n",
        "\r\n",
        "NetworkX, on the other hand, by default uses Dijkstra's algorithm, as stated from its documentation found here: https://networkx.org/documentation/stable//reference/algorithms/generated/networkx.algorithms.shortest_paths.generic.average_shortest_path_length.html."
      ]
    }
  ]
}