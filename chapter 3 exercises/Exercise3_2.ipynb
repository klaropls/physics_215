{
  "nbformat": 4,
  "nbformat_minor": 0,
  "metadata": {
    "colab": {
      "name": "Exercise3_2.ipynb",
      "provenance": [],
      "collapsed_sections": []
    },
    "kernelspec": {
      "name": "python3",
      "display_name": "Python 3"
    }
  },
  "cells": [
    {
      "cell_type": "code",
      "metadata": {
        "id": "ncEB3v-Z0FqA"
      },
      "source": [
        "import networkx as nx\n",
        "import numpy as np\n",
        "from collections import deque"
      ],
      "execution_count": 1,
      "outputs": []
    },
    {
      "cell_type": "markdown",
      "metadata": {
        "id": "KKHtxOg9BCO3"
      },
      "source": [
        "**Exercise 3.2:** My implementation of ```reachable_nodes_bfs``` is efficient in the sense that it is in $\\mathcal{O}(n+m)$, but it incurs a lot of overhead adding nodes to the queue and removing them. NetworkX provides a simple, fast implementation of BFS, available from the NetworkX repository on GitHub at http://thinkcomplex.com/conxx.\n",
        "\n",
        "Here is a version I modified to return a set of nodes:"
      ]
    },
    {
      "cell_type": "code",
      "metadata": {
        "id": "LiS7ma3i07QA"
      },
      "source": [
        "def plain_bfs(G, start):\n",
        "  \n",
        "  seen = set()\n",
        "  nextlevel = {start}\n",
        "  while nextlevel:\n",
        "    thislevel = nextlevel\n",
        "    nextlevel = set()\n",
        "    for v in thislevel:\n",
        "      if v not in seen:\n",
        "        seen.add(v)\n",
        "        nextlevel.update(G[v])\n",
        "  return seen"
      ],
      "execution_count": null,
      "outputs": []
    },
    {
      "cell_type": "markdown",
      "metadata": {
        "id": "jz4G-hj4BMnh"
      },
      "source": [
        "Compare this function to ```reachable_nodes_bfs``` and see which is faster. Then see if you can modify this function to implement a faster version of ```shortest_path_dijkstra```."
      ]
    },
    {
      "cell_type": "markdown",
      "metadata": {
        "id": "q4COnepUBe4a"
      },
      "source": [
        "\n",
        "\n",
        "---\n",
        "Answer\n",
        "\n",
        "\n",
        "---\n",
        "\n",
        "I will provide below the implementation of ```reachable_nodes_bfs```. I will also provide the implementation of ```make_ring_lattice``` from the book.\n",
        "\n"
      ]
    },
    {
      "cell_type": "code",
      "metadata": {
        "id": "i4gJYBZdBdvZ"
      },
      "source": [
        "def reachable_nodes_bfs(G, start):\n",
        "  seen = set()\n",
        "  queue = deque([start])\n",
        "  while queue:\n",
        "    node = queue.popleft()\n",
        "    if node not in seen:\n",
        "      seen.add(node)\n",
        "      queue.extend(G.neighbors(node))\n",
        "  return seen"
      ],
      "execution_count": null,
      "outputs": []
    },
    {
      "cell_type": "code",
      "metadata": {
        "id": "vwljzcSRCFfy"
      },
      "source": [
        "def adjacent_edges(nodes, halfk):\n",
        "    n = len(nodes)\n",
        "    for i, u in enumerate(nodes):\n",
        "        for j in range(i+1, i+halfk+1):\n",
        "            v = nodes[j % n]\n",
        "            yield u, v\n",
        "\n",
        "def make_ring_lattice(n, k):\n",
        "    G = nx.Graph()\n",
        "    nodes = range(n)\n",
        "    G.add_nodes_from(nodes)\n",
        "    G.add_edges_from(adjacent_edges(nodes, k//2))\n",
        "    return G\n",
        "\n",
        "lattice = make_ring_lattice(1000,100)"
      ],
      "execution_count": null,
      "outputs": []
    },
    {
      "cell_type": "markdown",
      "metadata": {
        "id": "IJpI4hngCOpC"
      },
      "source": [
        "We will know compare ```plain_bfs``` and ```reachable_nodes_bfs``` using ```%timeit```."
      ]
    },
    {
      "cell_type": "code",
      "metadata": {
        "id": "YVpCkIysC2Zk",
        "colab": {
          "base_uri": "https://localhost:8080/",
          "height": 34
        },
        "outputId": "58863c8c-d5f4-4ed2-c1a9-2ab2bdd9d111"
      },
      "source": [
        "%timeit len(plain_bfs(lattice,0))"
      ],
      "execution_count": null,
      "outputs": [
        {
          "output_type": "stream",
          "text": [
            "100 loops, best of 3: 3.79 ms per loop\n"
          ],
          "name": "stdout"
        }
      ]
    },
    {
      "cell_type": "code",
      "metadata": {
        "id": "Z3_tYJR9C83b",
        "colab": {
          "base_uri": "https://localhost:8080/",
          "height": 34
        },
        "outputId": "8d37a577-1cd6-4608-fb7a-936066d1094f"
      },
      "source": [
        "%timeit len(reachable_nodes_bfs(lattice,0))"
      ],
      "execution_count": null,
      "outputs": [
        {
          "output_type": "stream",
          "text": [
            "100 loops, best of 3: 8.89 ms per loop\n"
          ],
          "name": "stdout"
        }
      ]
    },
    {
      "cell_type": "markdown",
      "metadata": {
        "id": "DzQ9hkFpEUo0"
      },
      "source": [
        "Conclusion: The ```plain_bfs``` implementation is way better than ```reachable_nodes_bfs```.\n",
        "\n",
        "We will now modify ```plain_bfs``` to make it slightly faster. One approach to it is by not using ```seen.add(v)```, especially inside a loop. Every time we call this function, we call a larger and larger set. As an example, see the code below."
      ]
    },
    {
      "cell_type": "code",
      "metadata": {
        "id": "lwkHsHdnFarr",
        "colab": {
          "base_uri": "https://localhost:8080/",
          "height": 185
        },
        "outputId": "73a0dcb6-8049-4cb0-8b14-5ffd3762d80e"
      },
      "source": [
        "a = set()\n",
        "for i in range(10):\n",
        "  a.add(i)\n",
        "  print(a)"
      ],
      "execution_count": null,
      "outputs": [
        {
          "output_type": "stream",
          "text": [
            "{0}\n",
            "{0, 1}\n",
            "{0, 1, 2}\n",
            "{0, 1, 2, 3}\n",
            "{0, 1, 2, 3, 4}\n",
            "{0, 1, 2, 3, 4, 5}\n",
            "{0, 1, 2, 3, 4, 5, 6}\n",
            "{0, 1, 2, 3, 4, 5, 6, 7}\n",
            "{0, 1, 2, 3, 4, 5, 6, 7, 8}\n",
            "{0, 1, 2, 3, 4, 5, 6, 7, 8, 9}\n"
          ],
          "name": "stdout"
        }
      ]
    },
    {
      "cell_type": "markdown",
      "metadata": {
        "id": "4Jwg8vyOGGSj"
      },
      "source": [
        "To remedy this, we could make an empty dictionary, instead of using an empty set and calling the whole set as we update it. By using the dictionary, we could instead add an element and its key without calling the whole dictionary. Below is the implementation of that idea."
      ]
    },
    {
      "cell_type": "code",
      "metadata": {
        "id": "mBkl7e3oGObY"
      },
      "source": [
        "def plain_bfs_modified(G, start):\n",
        "  key = 0\n",
        "  box = {}\n",
        "  nextlevel = {start}\n",
        "  while nextlevel:\n",
        "    thislevel = nextlevel\n",
        "    nextlevel = set()\n",
        "    for v in thislevel:\n",
        "      if v not in box:\n",
        "        box[v] = key\n",
        "        nextlevel.update(G[v])\n",
        "    key += 1\n",
        "  return box"
      ],
      "execution_count": null,
      "outputs": []
    },
    {
      "cell_type": "code",
      "metadata": {
        "id": "Jijbn7NIG0dk",
        "colab": {
          "base_uri": "https://localhost:8080/",
          "height": 34
        },
        "outputId": "9a4ad3ee-a4e4-4d49-f70c-b22e889e8b57"
      },
      "source": [
        "%timeit len(plain_bfs_modified(lattice,0))"
      ],
      "execution_count": null,
      "outputs": [
        {
          "output_type": "stream",
          "text": [
            "100 loops, best of 3: 3.77 ms per loop\n"
          ],
          "name": "stdout"
        }
      ]
    },
    {
      "cell_type": "code",
      "metadata": {
        "id": "ZEGDIFUw1cty"
      },
      "source": [
        "def shortest_path_dijkstra(G, source):\n",
        "  dist = {source: 0}\n",
        "  queue = deque([source])\n",
        "  while queue:\n",
        "    node = queue.popleft()\n",
        "    new_dist = dist[node] + 1\n",
        "\n",
        "    neighbors = set(G[node]).difference(dist)\n",
        "    for n in neighbors:\n",
        "      dist[n] = new_dist\n",
        "\n",
        "    queue.extend(neighbors)\n",
        "  return dist"
      ],
      "execution_count": null,
      "outputs": []
    },
    {
      "cell_type": "code",
      "metadata": {
        "id": "SXwgwVz7MxSv",
        "colab": {
          "base_uri": "https://localhost:8080/",
          "height": 34
        },
        "outputId": "7c358507-051e-49d7-bb05-122fbb4cd6da"
      },
      "source": [
        "%timeit len(shortest_path_dijkstra(lattice,0))"
      ],
      "execution_count": null,
      "outputs": [
        {
          "output_type": "stream",
          "text": [
            "100 loops, best of 3: 6.32 ms per loop\n"
          ],
          "name": "stdout"
        }
      ]
    },
    {
      "cell_type": "code",
      "metadata": {
        "id": "9nS2w1pJNFzg",
        "colab": {
          "base_uri": "https://localhost:8080/",
          "height": 34
        },
        "outputId": "ad61a6fc-79cc-46dc-9278-a168966616dd"
      },
      "source": [
        "%timeit len(nx.shortest_path_length(lattice,0))"
      ],
      "execution_count": null,
      "outputs": [
        {
          "output_type": "stream",
          "text": [
            "100 loops, best of 3: 3.07 ms per loop\n"
          ],
          "name": "stdout"
        }
      ]
    },
    {
      "cell_type": "markdown",
      "metadata": {
        "id": "Ucp5qHuLNNUo"
      },
      "source": [
        "We can see that our implementation is better than that of ```shortest_path_dijkstra```."
      ]
    }
  ]
}