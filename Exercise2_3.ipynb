{
  "nbformat": 4,
  "nbformat_minor": 0,
  "metadata": {
    "colab": {
      "name": "Exercise2_3.ipynb",
      "provenance": [],
      "collapsed_sections": []
    },
    "kernelspec": {
      "name": "python3",
      "display_name": "Python 3"
    }
  },
  "cells": [
    {
      "cell_type": "markdown",
      "metadata": {
        "id": "dBgNlIIBDB47"
      },
      "source": [
        "**Exercise 2.3:** In my implementation of reachable_nodes, you might be bothered by the apparent inefficiency of adding all neighbors to the stack without checking whether they are already in seen. Write a version of this function that checks the neighbors before adding them to the stack. Does this \"optimization\" change the order of growth? Does it make the function faster?"
      ]
    },
    {
      "cell_type": "code",
      "metadata": {
        "id": "QpvEQNV5DQys"
      },
      "source": [
        "import networkx as nx"
      ],
      "execution_count": null,
      "outputs": []
    },
    {
      "cell_type": "code",
      "metadata": {
        "id": "ZWTOkS11DTz3"
      },
      "source": [
        "def all_pair(nodes):\n",
        "  for i, j in enumerate(nodes):\n",
        "    for u, v in enumerate(nodes):\n",
        "      if i > u:\n",
        "        yield j, v"
      ],
      "execution_count": null,
      "outputs": []
    },
    {
      "cell_type": "code",
      "metadata": {
        "id": "EwZkAXD1FUXf"
      },
      "source": [
        "def make_complete_graph(n):\n",
        "  G = nx.Graph()\n",
        "  nodes = range(n)\n",
        "  G.add_nodes_from(nodes)\n",
        "  G.add_edges_from(all_pair(nodes))\n",
        "  return G"
      ],
      "execution_count": null,
      "outputs": []
    },
    {
      "cell_type": "markdown",
      "metadata": {
        "id": "f0_KR8xuFwQC"
      },
      "source": [
        "Below is the author's code for the reachable_nodes."
      ]
    },
    {
      "cell_type": "code",
      "metadata": {
        "id": "pm5YqsjtDNua"
      },
      "source": [
        "def reachable_nodes(G,start):\n",
        "  seen = set() #creates an empty set\n",
        "  stack = [start] #creates a list with our parameter 'start'\n",
        "  while stack:\n",
        "    node = stack.pop() #moves out the latest object of 'stack'\n",
        "    if node not in seen: #this checks if this popped out object is in 'seen'. if not...\n",
        "      seen.add(node)#we add this node to the empty set 'seen'\n",
        "      stack.extend(G.neighbors(node))#we add the neighbors of node to stack.\n",
        "  return seen"
      ],
      "execution_count": null,
      "outputs": []
    },
    {
      "cell_type": "markdown",
      "metadata": {
        "id": "WUgesKChGBk4"
      },
      "source": [
        "The quick solution for this is to simply define a new set variable after the seen.add(node) line such that we can subtract the 'seen' set from it. "
      ]
    },
    {
      "cell_type": "code",
      "metadata": {
        "id": "omDkZtsiGBKA"
      },
      "source": [
        "def reachable_nodes_modified(G,start):\n",
        "  seen = set()\n",
        "  stack = [start]\n",
        "  while stack:\n",
        "    node = stack.pop()\n",
        "    if node not in seen:\n",
        "      seen.add(node)\n",
        "      check_neighbors = set(G.neighbors(node)) - seen\n",
        "      stack.extend(check_neighbors)\n",
        "    return seen\n"
      ],
      "execution_count": null,
      "outputs": []
    },
    {
      "cell_type": "markdown",
      "metadata": {
        "id": "8goVOP2loYnU"
      },
      "source": [
        "Definitions:\n",
        "\\begin{align}\n",
        "\\begin{split}\n",
        "n &= \\textit{number of nodes} \\\\m &= \\textit{number of edges}\n",
        "\\end{split}\n",
        "\\end{align}\n",
        "\n",
        "Here, I am only able to reduce the added nodes in 'stack'. The original function definition 'reachable_nodes(G,start)' adds a total of $2m$ nodes to stack *because we considered every edge twice* (I cannot understand this intuitively). \n",
        "\n",
        "In our modified code above, we reduced the added nodes to 'stack' into $m$. I cannot prove why but for a complete graph, this is true. Hence, the order of growth for our modified function is \n",
        "\\begin{align}\n",
        "\\mathcal{O}(n+m),\n",
        "\\end{align}\n",
        "as compared to the previous code $\\mathcal{O}(n+2m)$. This implies that our 'optimization' does not change the order of growth for the function (order/power is still the same)."
      ]
    },
    {
      "cell_type": "code",
      "metadata": {
        "id": "-RgzJCuaSJlf"
      },
      "source": [
        "complete = make_complete_graph(1000)"
      ],
      "execution_count": null,
      "outputs": []
    },
    {
      "cell_type": "code",
      "metadata": {
        "id": "pt-KalMixb7q",
        "colab": {
          "base_uri": "https://localhost:8080/",
          "height": 34
        },
        "outputId": "d54e6566-575a-4d0e-c967-4d9f67166a29"
      },
      "source": [
        "%timeit reachable_nodes(complete,0)"
      ],
      "execution_count": null,
      "outputs": [
        {
          "output_type": "stream",
          "text": [
            "10 loops, best of 3: 114 ms per loop\n"
          ],
          "name": "stdout"
        }
      ]
    },
    {
      "cell_type": "code",
      "metadata": {
        "id": "B8MhrjcrxkMm",
        "colab": {
          "base_uri": "https://localhost:8080/",
          "height": 50
        },
        "outputId": "b4bdb0a5-38ff-45ac-fd71-a8bfd65e52c7"
      },
      "source": [
        "%timeit reachable_nodes_modified(complete,0)"
      ],
      "execution_count": null,
      "outputs": [
        {
          "output_type": "stream",
          "text": [
            "The slowest run took 10.89 times longer than the fastest. This could mean that an intermediate result is being cached.\n",
            "10000 loops, best of 3: 26.2 µs per loop\n"
          ],
          "name": "stdout"
        }
      ]
    },
    {
      "cell_type": "markdown",
      "metadata": {
        "id": "YxAhVxZkx0EV"
      },
      "source": [
        "Surprisingly, the difference between our modified code and the original code is a magnitude of three orders. However, as $n \\to \\infty$, both function definition should have the same order of magnitude for the time it takes to run it.\n"
      ]
    }
  ]
}