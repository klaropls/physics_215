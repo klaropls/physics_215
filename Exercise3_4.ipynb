{
  "nbformat": 4,
  "nbformat_minor": 0,
  "metadata": {
    "colab": {
      "name": "Exercise3_4.ipynb",
      "provenance": [],
      "collapsed_sections": []
    },
    "kernelspec": {
      "name": "python3",
      "display_name": "Python 3"
    }
  },
  "cells": [
    {
      "cell_type": "code",
      "metadata": {
        "id": "E2gbZsjl4XYH"
      },
      "source": [
        "import networkx as nx\n",
        "import numpy as np\n",
        "from collections import deque\n"
      ],
      "execution_count": null,
      "outputs": []
    },
    {
      "cell_type": "markdown",
      "metadata": {
        "id": "byL-Oh-r9kX1"
      },
      "source": [
        "**Exercise 3.4:** In Section 3.10, I claimed that Dijkstra's algorithm does not work unless it uses BFS. Write a version of ```shortest_path_dijkstra``` that uses DFS and test it on a few examples to see what goes wrong."
      ]
    },
    {
      "cell_type": "markdown",
      "metadata": {
        "id": "HieoZQNI-X3X"
      },
      "source": [
        "\n",
        "\n",
        "---\n",
        "\n",
        "\n",
        "Answer\n",
        "\n",
        "---\n",
        "\n",
        "Below is the implementation of ```shortest_path_dijkstra``` from the book.\n"
      ]
    },
    {
      "cell_type": "code",
      "metadata": {
        "id": "JwgcYwhC4nNV"
      },
      "source": [
        "def shortest_path_dijkstra(G, source):\n",
        "\n",
        "    dist = {source: 0}\n",
        "    queue = deque([source])\n",
        "    while queue:\n",
        "        node = queue.popleft()\n",
        "        new_dist = dist[node] + 1\n",
        "\n",
        "        neighbors = set(G[node]).difference(dist)\n",
        "        for n in neighbors:\n",
        "            dist[n] = new_dist\n",
        "        \n",
        "        queue.extend(neighbors)\n",
        "    return dist"
      ],
      "execution_count": null,
      "outputs": []
    },
    {
      "cell_type": "markdown",
      "metadata": {
        "id": "WIAdpRe-AE8Z"
      },
      "source": [
        "To revert this back into using DFS, we simply replace ```.popleft()``` with ```.pop()``` since that's what we did in the first place to make a BFS."
      ]
    },
    {
      "cell_type": "code",
      "metadata": {
        "id": "_ua3ShSc5rkE"
      },
      "source": [
        "def shortest_path_dijkstra_DFS(G, source):\n",
        "\n",
        "    dist = {source: 0}\n",
        "    queue = deque([source])\n",
        "    while queue:\n",
        "        node = queue.pop()\n",
        "        new_dist = dist[node] + 1\n",
        "\n",
        "        neighbors = set(G[node]).difference(dist)\n",
        "        for n in neighbors:\n",
        "            dist[n] = new_dist\n",
        "        \n",
        "        queue.extend(neighbors)\n",
        "    return dist"
      ],
      "execution_count": null,
      "outputs": []
    },
    {
      "cell_type": "markdown",
      "metadata": {
        "id": "cXKvmFulAdOz"
      },
      "source": [
        "We now test these two implementations by using the ```make_ring_lattice``` implementation from the book."
      ]
    },
    {
      "cell_type": "code",
      "metadata": {
        "id": "zXFsxEg4-UGX"
      },
      "source": [
        "def adjacent_edges(nodes, halfk):\n",
        "\n",
        "    n = len(nodes)\n",
        "    for i, u in enumerate(nodes):\n",
        "        for j in range(i+1, i+halfk+1):\n",
        "            v = nodes[j % n]\n",
        "            yield u, v\n",
        "def make_ring_lattice(n, k):\n",
        "\n",
        "    G = nx.Graph()\n",
        "    nodes = range(n)\n",
        "    G.add_nodes_from(nodes)\n",
        "    G.add_edges_from(adjacent_edges(nodes, k//2))\n",
        "    return G"
      ],
      "execution_count": null,
      "outputs": []
    },
    {
      "cell_type": "code",
      "metadata": {
        "id": "iLC4ZdkF5we8",
        "colab": {
          "base_uri": "https://localhost:8080/",
          "height": 34
        },
        "outputId": "2c8607b2-9c74-4a2b-aaca-878ad5e2c409"
      },
      "source": [
        "a = shortest_path_dijkstra(make_ring_lattice(10,3),0)\n",
        "b = shortest_path_dijkstra_DFS(make_ring_lattice(10,3),0)\n",
        "\n",
        "a == b"
      ],
      "execution_count": null,
      "outputs": [
        {
          "output_type": "execute_result",
          "data": {
            "text/plain": [
              "False"
            ]
          },
          "metadata": {
            "tags": []
          },
          "execution_count": 13
        }
      ]
    },
    {
      "cell_type": "code",
      "metadata": {
        "id": "DPfJJIEGDAra",
        "colab": {
          "base_uri": "https://localhost:8080/",
          "height": 34
        },
        "outputId": "efee72ef-2892-45df-c221-acd3db74d38c"
      },
      "source": [
        "print(make_ring_lattice(10,4)[0])"
      ],
      "execution_count": null,
      "outputs": [
        {
          "output_type": "stream",
          "text": [
            "{1: {}, 2: {}, 8: {}, 9: {}}\n"
          ],
          "name": "stdout"
        }
      ]
    },
    {
      "cell_type": "markdown",
      "metadata": {
        "id": "F-_fimUZAr-o"
      },
      "source": [
        "The reason for this is the path length will be different that that of when using ```popleft()```. \n",
        "\n",
        "Another great example to demonstrate this by considering two right triangles above each other:\n",
        "\n",
        "![Capture.PNG](data:image/png;base64,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)\n",
        "\n",
        "If we implement DFS and BFS, of course given an edge length for each node, we will see that there will be accountabilities present in each algorithm used.\n",
        "\n",
        "\n",
        "\n"
      ]
    }
  ]
}