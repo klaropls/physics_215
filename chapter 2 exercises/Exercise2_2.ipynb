{
  "nbformat": 4,
  "nbformat_minor": 0,
  "metadata": {
    "colab": {
      "name": "Exercise2_2.ipynb",
      "provenance": [],
      "collapsed_sections": []
    },
    "kernelspec": {
      "name": "python3",
      "display_name": "Python 3"
    }
  },
  "cells": [
    {
      "cell_type": "markdown",
      "metadata": {
        "id": "jxKn3y2I8sHX"
      },
      "source": [
        "**Exercise 2.2:** In Section 2.8 we analyzed the performance of ```reachable_nodes``` and classified it in $\\mathcal{O}(n+m)$, where $n$ is the number of nodes and $m$ is the number of edges. Continuing the analysis, what is the order of growth for ```is_connected```?\n",
        "\n",
        "```\n",
        "def is_connected(G):\n",
        "    start = list(G)[0]\n",
        "    reachable = reachable_nodes(G, start)\n",
        "    return len(reachable) == len(G)\n",
        "```"
      ]
    },
    {
      "cell_type": "markdown",
      "metadata": {
        "id": "J8ojUd_c9Tb9"
      },
      "source": [
        "From https://wiki.python.org/moin/TimeComplexity, we see that the first line is constant in time since it is an iteraator. As discussed from the book, ```reachable_nodes``` has a time complexity of $\\mathcal{O}(n+m)$. Lastly, getting ```len()``` is constant in time. Hence, the total time complexity of the function above is $\\mathcal{O}(n+m)$."
      ]
    }
  ]
}