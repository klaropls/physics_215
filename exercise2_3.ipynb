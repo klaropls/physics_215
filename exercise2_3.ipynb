{
  "nbformat": 4,
  "nbformat_minor": 0,
  "metadata": {
    "colab": {
      "name": "exercise2_3.ipynb",
      "provenance": [],
      "collapsed_sections": []
    },
    "kernelspec": {
      "name": "python3",
      "display_name": "Python 3"
    }
  },
  "cells": [
    {
      "cell_type": "markdown",
      "metadata": {
        "id": "dBgNlIIBDB47",
        "colab_type": "text"
      },
      "source": [
        "\n",
        "\n",
        "---\n",
        "\n",
        "\n",
        "Exercise 2.3 (thinkcomplexity2) In my implementation of reachable_nodes, you might be bothered by the apparent inefficiency of adding all neighbors to the stack without checking whether they are already in seen. Write a version of this function that checks the neighbors before adding them to the stack. Does this \"optimization\" change the order of growth? Does it make the function faster?\n",
        "\n",
        "\n",
        "---\n",
        "\n",
        "\n",
        "\n"
      ]
    },
    {
      "cell_type": "code",
      "metadata": {
        "id": "QpvEQNV5DQys",
        "colab_type": "code",
        "colab": {}
      },
      "source": [
        "import networkx as nx"
      ],
      "execution_count": 1,
      "outputs": []
    },
    {
      "cell_type": "code",
      "metadata": {
        "id": "ZWTOkS11DTz3",
        "colab_type": "code",
        "colab": {}
      },
      "source": [
        "def all_pair(nodes):\n",
        "  for i, j in enumerate(nodes):\n",
        "    for u, v in enumerate(nodes):\n",
        "      if i > u:\n",
        "        yield j, v"
      ],
      "execution_count": 2,
      "outputs": []
    },
    {
      "cell_type": "code",
      "metadata": {
        "id": "EwZkAXD1FUXf",
        "colab_type": "code",
        "colab": {}
      },
      "source": [
        "def make_complete_graph(n):\n",
        "  G = nx.Graph()\n",
        "  nodes = range(n)\n",
        "  G.add_nodes_from(nodes)\n",
        "  G.add_edges_from(all_pair(nodes))\n",
        "  return G"
      ],
      "execution_count": 3,
      "outputs": []
    },
    {
      "cell_type": "markdown",
      "metadata": {
        "id": "f0_KR8xuFwQC",
        "colab_type": "text"
      },
      "source": [
        "\n",
        "---\n",
        "\n",
        "\n",
        "Below is the author's code for the reachable_nodes.\n",
        "\n",
        "\n",
        "---\n",
        "\n"
      ]
    },
    {
      "cell_type": "code",
      "metadata": {
        "id": "pm5YqsjtDNua",
        "colab_type": "code",
        "colab": {}
      },
      "source": [
        "def reachable_nodes(G,start):\n",
        "  seen = set() #creates an empty set\n",
        "  stack = [start] #creates a list with our parameter 'start'\n",
        "  while stack:\n",
        "    node = stack.pop() #moves out the latest object of 'stack'\n",
        "    if node not in seen: #this checks if this popped out object is in 'seen'. if not...\n",
        "      seen.add(node)#we add this node to the empty set 'seen'\n",
        "      stack.extend(G.neighbors(node))#we add the neighbors of node to stack.\n",
        "  return seen"
      ],
      "execution_count": 4,
      "outputs": []
    },
    {
      "cell_type": "markdown",
      "metadata": {
        "id": "WUgesKChGBk4",
        "colab_type": "text"
      },
      "source": [
        "\n",
        "\n",
        "\n",
        "\n",
        "\n",
        "---\n",
        "\n",
        "\n",
        "The quick solution for this is to simply define a new set variable after the seen.add(node) line such that we can subtract the 'seen' set from it. \n",
        "\n",
        "\n",
        "---\n",
        "\n"
      ]
    },
    {
      "cell_type": "code",
      "metadata": {
        "id": "omDkZtsiGBKA",
        "colab_type": "code",
        "colab": {}
      },
      "source": [
        "def reachable_nodes_modified(G,start):\n",
        "  seen = set()\n",
        "  stack = [start]\n",
        "  while stack:\n",
        "    node = stack.pop()\n",
        "    if node not in seen:\n",
        "      seen.add(node)\n",
        "      check_neighbors = set(G.neighbors(node)) - seen\n",
        "      stack.extend(check_neighbors)\n",
        "    return seen\n"
      ],
      "execution_count": 5,
      "outputs": []
    },
    {
      "cell_type": "markdown",
      "metadata": {
        "id": "8goVOP2loYnU",
        "colab_type": "text"
      },
      "source": [
        "\n",
        "\n",
        "---\n",
        "\n",
        "\n",
        "Definitions:\n",
        "\\begin{align}\n",
        "\\begin{split}\n",
        "n &= \\textit{number of nodes} \\\\m &= \\textit{number of edges}\n",
        "\\end{split}\n",
        "\\end{align}\n",
        "\n",
        "Here, I am only able to reduce the added nodes in 'stack'. The original function definition 'reachable_nodes(G,start)' adds a total of $2m$ nodes to stack *because we considered every edge twice* (I cannot understand this intuitively). \n",
        "\n",
        "In our modified code above, we reduced the added nodes to 'stack' into $m$. I cannot prove why but for a complete graph, this is true. Hence, the order of growth for our modified function is \n",
        "\\begin{align}\n",
        "\\mathcal{O}(n+m),\n",
        "\\end{align}\n",
        "as compared to the previous code $\\mathcal{O}(n+2m)$. This implies that our 'optimization' does not change the order of growth for the function (order/power is still the same).\n",
        "\n",
        "\n",
        "---\n",
        "\n"
      ]
    },
    {
      "cell_type": "code",
      "metadata": {
        "id": "-RgzJCuaSJlf",
        "colab_type": "code",
        "colab": {}
      },
      "source": [
        "complete = make_complete_graph(1000)"
      ],
      "execution_count": 6,
      "outputs": []
    },
    {
      "cell_type": "code",
      "metadata": {
        "id": "pt-KalMixb7q",
        "colab_type": "code",
        "colab": {
          "base_uri": "https://localhost:8080/",
          "height": 34
        },
        "outputId": "d54e6566-575a-4d0e-c967-4d9f67166a29"
      },
      "source": [
        "%timeit reachable_nodes(complete,0)"
      ],
      "execution_count": 7,
      "outputs": [
        {
          "output_type": "stream",
          "text": [
            "10 loops, best of 3: 114 ms per loop\n"
          ],
          "name": "stdout"
        }
      ]
    },
    {
      "cell_type": "code",
      "metadata": {
        "id": "B8MhrjcrxkMm",
        "colab_type": "code",
        "colab": {
          "base_uri": "https://localhost:8080/",
          "height": 50
        },
        "outputId": "b4bdb0a5-38ff-45ac-fd71-a8bfd65e52c7"
      },
      "source": [
        "%timeit reachable_nodes_modified(complete,0)"
      ],
      "execution_count": 8,
      "outputs": [
        {
          "output_type": "stream",
          "text": [
            "The slowest run took 10.89 times longer than the fastest. This could mean that an intermediate result is being cached.\n",
            "10000 loops, best of 3: 26.2 µs per loop\n"
          ],
          "name": "stdout"
        }
      ]
    },
    {
      "cell_type": "markdown",
      "metadata": {
        "id": "YxAhVxZkx0EV",
        "colab_type": "text"
      },
      "source": [
        "\n",
        "\n",
        "\n",
        "\n",
        "\n",
        "---\n",
        "\n",
        "\n",
        "Surprisingly, the difference between our modified code and the original code is a magnitude of three orders. However, as $n \\to \\infty$, both function definition should have the same order of magnitude for the time it takes to run it.\n",
        "\n",
        "\n",
        "\n",
        "\n",
        "\n",
        "\n",
        "---\n",
        "\n",
        "\n",
        "\n"
      ]
    },
    {
      "cell_type": "markdown",
      "metadata": {
        "id": "CbdhkllczLO6",
        "colab_type": "text"
      },
      "source": [
        "\n",
        "\n",
        "---\n",
        "*END* of my answer to the exercise\n",
        "\n",
        "\n",
        "---\n",
        "\n",
        "\n",
        "\n",
        "\n"
      ]
    },
    {
      "cell_type": "markdown",
      "metadata": {
        "id": "UURsxM7tyaBb",
        "colab_type": "text"
      },
      "source": [
        "\n",
        "\n",
        "---\n",
        "\n",
        "*Reflection*\n",
        "\n",
        "\n",
        "\n",
        "\n",
        "In my implementation of reachable_nodes, you might be bothered by the apparent inefficiency of adding all neighbors to the stack *without checking whether they are already in* **seen**...\n",
        "\n",
        "\n",
        "---\n",
        "I was initially trying to make a code that checks if the nodes are already in **stack**. I had a hard time and I am thinking that I will be able to achieve it using a loop, which will make it more inefficient. Is this task possible (checking of stack instead of seen)?\n",
        "\n",
        "\n",
        "---\n",
        "Up until this point, I have not looked at the solution manual. Rest assure that after looking at it, no edits were done at all lines above this point (From our course guide, I am assuming that this is allowed as long as I do not copy-paste a code and I am rewritting it under the assumption that I *understood* it. Below is the author's solution:\n",
        "\n"
      ]
    },
    {
      "cell_type": "code",
      "metadata": {
        "id": "Nuug2A7rxoOF",
        "colab_type": "code",
        "colab": {}
      },
      "source": [
        "def reachable_nodes_precheck(G, start):\n",
        "    seen = set()\n",
        "    stack = [start]\n",
        "    while stack:\n",
        "        node = stack.pop()\n",
        "        if node not in seen:\n",
        "            seen.add(node)\n",
        "            neighbors = set(G[node]) - seen\n",
        "            stack.extend(neighbors)\n",
        "    return seen"
      ],
      "execution_count": 9,
      "outputs": []
    },
    {
      "cell_type": "markdown",
      "metadata": {
        "id": "x9fNEzZG2KhW",
        "colab_type": "text"
      },
      "source": [
        "I do not understand the syntax\n",
        "\n",
        "neighbors = set(G[node]) - seen\n",
        "\n",
        "I am cofused specifically at the G[node] syntax. Also, as means of checking, he used the len function. Why did he use it instead of using the raw function?"
      ]
    },
    {
      "cell_type": "code",
      "metadata": {
        "id": "ewt9k0rf1-VJ",
        "colab_type": "code",
        "colab": {}
      },
      "source": [
        ""
      ],
      "execution_count": null,
      "outputs": []
    }
  ]
}