{
  "nbformat": 4,
  "nbformat_minor": 0,
  "metadata": {
    "colab": {
      "name": "Exercise3_1.ipynb",
      "provenance": [],
      "collapsed_sections": []
    },
    "kernelspec": {
      "name": "python3",
      "display_name": "Python 3"
    }
  },
  "cells": [
    {
      "cell_type": "markdown",
      "metadata": {
        "id": "2jVJCwGaeoqW"
      },
      "source": [
        "**Exercise 3.1:** In a ring lattice, every node has the same number of neighbors. The number of neighgbors is called the **degree** of the node, and a graph where all nodes have the same degree is called a **regular graph**.\n",
        "\n",
        "All ring lattices are regular, but not all regular graphs are ring lattices. In particular, if $k$ is odd, we can't construc a ring lattice, but we might be able to construct a regular graph.\n",
        "\n",
        "Write a function called ```make_regular_graph``` that takes $n$ and $k$ and returns a regular graph that contains $n$ nodes, where every node has $k$ neighbors. If it's not possible to make a regular graph with the given values of $n$ and $k$, the function should raise a ```ValueError```."
      ]
    },
    {
      "cell_type": "code",
      "metadata": {
        "id": "uzEXGIVcJO0o"
      },
      "source": [
        "import networkx as nx\n",
        "import numpy as np"
      ],
      "execution_count": 1,
      "outputs": []
    },
    {
      "cell_type": "markdown",
      "metadata": {
        "id": "crhfLMXZesH6"
      },
      "source": [
        "I will first provide the code for the ```make_ring_lattice(n,k)``` from the book. It is given below.\n",
        "\n"
      ]
    },
    {
      "cell_type": "code",
      "metadata": {
        "id": "1i1AHSIdJRqC"
      },
      "source": [
        "def adjacent_nodes(nodes, halfk):\n",
        "  n = len(nodes)\n",
        "  for i, u in enumerate(nodes):\n",
        "    for j in range(i+1, i+halfk+1):\n",
        "      v = nodes[j % n]\n",
        "      yield u, v"
      ],
      "execution_count": 2,
      "outputs": []
    },
    {
      "cell_type": "code",
      "metadata": {
        "id": "WZvC7fVd7wN0"
      },
      "source": [
        "def make_ring_lattice(n, k):\n",
        "    G = nx.Graph()\n",
        "    nodes = range(n)\n",
        "    G.add_nodes_from(nodes)\n",
        "    G.add_edges_from(adjacent_edges(nodes, k//2))\n",
        "    return G"
      ],
      "execution_count": 3,
      "outputs": []
    },
    {
      "cell_type": "markdown",
      "metadata": {
        "id": "vASipYbIgzVF"
      },
      "source": [
        "The provided code for the ring lattice ```make_ring_lattice(n,k)``` fails when $k$ is odd because we assign of the line ```G.add_edges_from(adjacent_edges(nodes, k//2)```. The floor division rounds down the degree of the node. \n",
        "\n",
        "From the ```adjacent_nodes(nodes,halfk)``` function, we could see that the neighbors are 'weaved' in a circular manner and it produces the neighbors literally adjacent to it in a symmetric manner. Say if you have $4$ neighbors, you will first get the first 2 neighbors on the right and after sometime, because of the modulo trick, you well get the 2 neighbors frorm the left.\n",
        "\n",
        "From this, we could see that the easiest way to deal with $k = $ odd is to assign the last neighbor opposite it. This will fail when $n = $ odd as hinted by the exercise question. We will make use of the ```adjacent_edges(nodes, halfk)``` function and define a new function assigning an edge to the odd one out opposite of a given node."
      ]
    },
    {
      "cell_type": "code",
      "metadata": {
        "id": "a9gBVdCoFSaD"
      },
      "source": [
        "def opposite_edges(nodes):\r\n",
        "  n = len(nodes)\r\n",
        "  for i, u in enumerate(nodes):\r\n",
        "    j = i + n//2\r\n",
        "    v = nodes[j % n]\r\n",
        "    yield u, v"
      ],
      "execution_count": 4,
      "outputs": []
    },
    {
      "cell_type": "markdown",
      "metadata": {
        "id": "rTFXsdaulSpX"
      },
      "source": [
        "The above code is a very neat trick to do it. The ```j = i + n//2``` is hard to think about at first but it makes perfect sense for $n = $ even. Since our nodes are arranged in a circular manner, an opposite side of a point (node) of the circle will be accessible as we rotate it by $i\\pi$. So if we have 10 nodes, we need to skip half of 10 to get to the opposite side. The ``` v = nodes[j % n]``` line takes care of it when $j \\geq n$."
      ]
    },
    {
      "cell_type": "code",
      "metadata": {
        "id": "OICrdjDU9pLt"
      },
      "source": [
        "def make_regular_graph(n, k):\n",
        "\n",
        "  G = nx.Graph()\n",
        "  nodes = range(n)\n",
        "  G.add_nodes_from(nodes)\n",
        "  G.add_edges_from(adjacent_nodes(nodes,k//2)) #Up to this point, this is the same code as ```make_ring_lattice(n,k)```. Below we implement the condition if $k=$ odd.\n",
        "  if k%2:\n",
        "      if n%2 == 1:\n",
        "          raise ValueError(\"n should be even if k is odd.\")\n",
        "      if n%2 == 0:    \n",
        "        G.add_edges_from(opposite_edges(nodes))\n",
        "  return G\n"
      ],
      "execution_count": 5,
      "outputs": []
    },
    {
      "cell_type": "code",
      "metadata": {
        "id": "_fiMmkWeTLEN",
        "colab": {
          "base_uri": "https://localhost:8080/",
          "height": 330
        },
        "outputId": "4a50f309-863c-474a-d0a0-7949f68e6307"
      },
      "source": [
        "nx.draw_circular(make_regular_graph(11,3), \n",
        "                 node_color='C4', \n",
        "                 node_size=1000, \n",
        "                 with_labels=True)"
      ],
      "execution_count": 6,
      "outputs": [
        {
          "output_type": "error",
          "ename": "ValueError",
          "evalue": "ignored",
          "traceback": [
            "\u001b[0;31m---------------------------------------------------------------------------\u001b[0m",
            "\u001b[0;31mValueError\u001b[0m                                Traceback (most recent call last)",
            "\u001b[0;32m<ipython-input-6-ae27d26db4bd>\u001b[0m in \u001b[0;36m<module>\u001b[0;34m()\u001b[0m\n\u001b[0;32m----> 1\u001b[0;31m nx.draw_circular(make_regular_graph(11,3), \n\u001b[0m\u001b[1;32m      2\u001b[0m                  \u001b[0mnode_color\u001b[0m\u001b[0;34m=\u001b[0m\u001b[0;34m'C4'\u001b[0m\u001b[0;34m,\u001b[0m\u001b[0;34m\u001b[0m\u001b[0;34m\u001b[0m\u001b[0m\n\u001b[1;32m      3\u001b[0m                  \u001b[0mnode_size\u001b[0m\u001b[0;34m=\u001b[0m\u001b[0;36m1000\u001b[0m\u001b[0;34m,\u001b[0m\u001b[0;34m\u001b[0m\u001b[0;34m\u001b[0m\u001b[0m\n\u001b[1;32m      4\u001b[0m                  with_labels=True)\n",
            "\u001b[0;32m<ipython-input-5-864879c8518e>\u001b[0m in \u001b[0;36mmake_regular_graph\u001b[0;34m(n, k)\u001b[0m\n\u001b[1;32m      7\u001b[0m   \u001b[0;32mif\u001b[0m \u001b[0mk\u001b[0m\u001b[0;34m%\u001b[0m\u001b[0;36m2\u001b[0m\u001b[0;34m:\u001b[0m\u001b[0;34m\u001b[0m\u001b[0;34m\u001b[0m\u001b[0m\n\u001b[1;32m      8\u001b[0m       \u001b[0;32mif\u001b[0m \u001b[0mn\u001b[0m\u001b[0;34m%\u001b[0m\u001b[0;36m2\u001b[0m \u001b[0;34m==\u001b[0m \u001b[0;36m1\u001b[0m\u001b[0;34m:\u001b[0m\u001b[0;34m\u001b[0m\u001b[0;34m\u001b[0m\u001b[0m\n\u001b[0;32m----> 9\u001b[0;31m           \u001b[0;32mraise\u001b[0m \u001b[0mValueError\u001b[0m\u001b[0;34m(\u001b[0m\u001b[0;34m\"n should be even if k is odd.\"\u001b[0m\u001b[0;34m)\u001b[0m\u001b[0;34m\u001b[0m\u001b[0;34m\u001b[0m\u001b[0m\n\u001b[0m\u001b[1;32m     10\u001b[0m       \u001b[0;32mif\u001b[0m \u001b[0mn\u001b[0m\u001b[0;34m%\u001b[0m\u001b[0;36m2\u001b[0m \u001b[0;34m==\u001b[0m \u001b[0;36m0\u001b[0m\u001b[0;34m:\u001b[0m\u001b[0;34m\u001b[0m\u001b[0;34m\u001b[0m\u001b[0m\n\u001b[1;32m     11\u001b[0m         \u001b[0mG\u001b[0m\u001b[0;34m.\u001b[0m\u001b[0madd_edges_from\u001b[0m\u001b[0;34m(\u001b[0m\u001b[0mopposite_edges\u001b[0m\u001b[0;34m(\u001b[0m\u001b[0mnodes\u001b[0m\u001b[0;34m)\u001b[0m\u001b[0;34m)\u001b[0m\u001b[0;34m\u001b[0m\u001b[0;34m\u001b[0m\u001b[0m\n",
            "\u001b[0;31mValueError\u001b[0m: n should be even if k is odd."
          ]
        }
      ]
    }
  ]
}