{
  "nbformat": 4,
  "nbformat_minor": 0,
  "metadata": {
    "colab": {
      "name": "Exercise4_1.ipynb",
      "provenance": [],
      "collapsed_sections": []
    },
    "kernelspec": {
      "name": "python3",
      "display_name": "Python 3"
    }
  },
  "cells": [
    {
      "cell_type": "markdown",
      "metadata": {
        "id": "HZM4XBiS2sq4"
      },
      "source": [
        "**Exercise 4.1:** In section 4.8 we discussed two explanations for the small world phenomenon, \"weak ties\" and \"hubs.\" Are these explanations compatible; that is, can they both be right? Which do you find more satisfying as an explanation, and why?\r\n",
        "\r\n",
        "Is there data you could collect, or experiments you could perform, that would provide evidence in favor of one model over the other?\r\n",
        "\r\n",
        "Choosing among competing models is the topic of Thomas Kuhn's essay, \"Objectivity, Value Judgment, and Theory Choice.\"\r\n",
        "\r\n",
        "What criteria does Kuhn propose for choosing among competing models? Do these criteria influence your opinion about the WS and BA models? Are there other criteria you think should be considered?"
      ]
    },
    {
      "cell_type": "markdown",
      "metadata": {
        "id": "-OG_GUVNpzCh"
      },
      "source": [
        "Both models can be right, depending on where it is applied. For example, the WS model is successful in partially explaining the small world phenomena exhibited by power grids, networks of movie actors, etc. On the other hand, the BA-model has been studied a lot. One of its notable uses was serving as a precursor for its modified model, the Bianconi-Barabasi model, to model the world wide web. If you were to ask me which model I prefer, then I'll say that it depends on where I will use it.\n",
        "\n",
        "Kuhn proposed five criteria for choosing among competing models: accuracy, consistency, scope, simplicity, and fruitfulness. These criteria definitely had an effect about my opinion about the WS and BA models. \n",
        "\n",
        "Say, accuracy. If I needed something that gives high clustering and low path lengths then I'll be using the WS model. If I needed something that should prioritize the power law distribution then I'll be using the BA model. Both are accurate in their own right. The same goes for consistency, scope, simplicity and fruitfulness. The thing with these models, in complex science in general, is that it is still fairly young as a subject. Personally, I don't tend to seek for a general theory in complex science and I am fairly accepting on what is thrown at me. I find the subject much like chemistry, it is yet to be organized such that we could make a good theory about it (good in a sense that every information is in f = ma, like in newtonian physics). You may accuse me of being relativistic but for the mean time, we cannot disregard what others can find useful."
      ]
    }
  ]
}